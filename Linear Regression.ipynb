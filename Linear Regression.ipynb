{
  "cells": [
    {
      "attachments": {},
      "cell_type": "markdown",
      "metadata": {
        "id": "JKdfRsPZOx7-"
      },
      "source": [
        "all these functions here are only made using NumPy, without using any other libraries like pandas, scikit-learn, or scipy. I run a complete machine learning process from preprocessing to model performance testing by using the functions to develop.\n"
      ]
    },
    {
      "cell_type": "code",
      "execution_count": 1,
      "metadata": {
        "id": "9BPzS0g9Ox7-"
      },
      "outputs": [],
      "source": [
        "import numpy as np\n",
        "import matplotlib.pyplot as plt"
      ]
    },
    {
      "attachments": {},
      "cell_type": "markdown",
      "metadata": {
        "id": "svj3G7hj4ZxY"
      },
      "source": []
    },
    {
      "cell_type": "code",
      "execution_count": 2,
      "metadata": {
        "id": "2HAUc00Wmu0E"
      },
      "outputs": [],
      "source": [
        "from sklearn.datasets import fetch_california_housing\n",
        "\n",
        "california_housing = fetch_california_housing(as_frame=False)\n",
        "\n",
        "X = california_housing.data\n",
        "y = california_housing.target"
      ]
    },
    {
      "attachments": {},
      "cell_type": "markdown",
      "metadata": {
        "id": "-txQY1eUoWeg"
      },
      "source": [
        "using both features and labels. To handle it correctly, it need to be familiar with its axis concept as it no longer has indices and columns that you can check by printing the variable."
      ]
    },
    {
      "cell_type": "code",
      "execution_count": 3,
      "metadata": {
        "id": "u4KbMNxMm9Oi"
      },
      "outputs": [
        {
          "data": {
            "text/plain": [
              "array([[   8.3252    ,   41.        ,    6.98412698, ...,    2.55555556,\n",
              "          37.88      , -122.23      ],\n",
              "       [   8.3014    ,   21.        ,    6.23813708, ...,    2.10984183,\n",
              "          37.86      , -122.22      ],\n",
              "       [   7.2574    ,   52.        ,    8.28813559, ...,    2.80225989,\n",
              "          37.85      , -122.24      ],\n",
              "       ...,\n",
              "       [   1.7       ,   17.        ,    5.20554273, ...,    2.3256351 ,\n",
              "          39.43      , -121.22      ],\n",
              "       [   1.8672    ,   18.        ,    5.32951289, ...,    2.12320917,\n",
              "          39.43      , -121.32      ],\n",
              "       [   2.3886    ,   16.        ,    5.25471698, ...,    2.61698113,\n",
              "          39.37      , -121.24      ]])"
            ]
          },
          "execution_count": 3,
          "metadata": {},
          "output_type": "execute_result"
        }
      ],
      "source": [
        "X"
      ]
    },
    {
      "cell_type": "code",
      "execution_count": 4,
      "metadata": {
        "id": "9rTO_NYMNHlg"
      },
      "outputs": [
        {
          "data": {
            "text/plain": [
              "array([4.526, 3.585, 3.521, ..., 0.923, 0.847, 0.894])"
            ]
          },
          "execution_count": 4,
          "metadata": {},
          "output_type": "execute_result"
        }
      ],
      "source": [
        "y"
      ]
    },
    {
      "cell_type": "markdown",
      "metadata": {
        "id": "Fbj_IpkHOx8A"
      },
      "source": [
        "### 1. Preprocessing"
      ]
    },
    {
      "attachments": {},
      "cell_type": "markdown",
      "metadata": {
        "id": "EE0ALwTyOx8A"
      },
      "source": [
        "The first task is to open the dataset and preprocess it into the form that the model can understand. It involves imputation, train_test_split, standardization, and normalization. Some functions are already covered by the first lab."
      ]
    },
    {
      "attachments": {},
      "cell_type": "markdown",
      "metadata": {
        "id": "t2uFZSUuoh9t"
      },
      "source": [
        "\n",
        "- Standardization: Make features have the same standard deviaton and mean.\n",
        "\n",
        "- Normalization: Make the range of value normalized into [0, 1]. This means that each column's minimum value should be zero and maximum value should be one."
      ]
    },
    {
      "cell_type": "code",
      "execution_count": 5,
      "metadata": {
        "id": "bQRVVievOx8A"
      },
      "outputs": [],
      "source": [
        "def standardize(data):\n",
        "  \"\"\"\n",
        "  Input: NumPy ndarray\n",
        "  Output: NumPy ndarray with column mean == 0 and std == 1\n",
        "  \"\"\"\n",
        "  data_standard = (data - data.mean(axis=0)) / data.std(axis=0)\n",
        "  return data_standard\n",
        "\n",
        "def normalize(data):\n",
        "  \"\"\"\"\n",
        "  Input: NumPy ndarray\n",
        "  Output: NumPy ndarray with column min == 0 and max == 1\n",
        "  \"\"\"\n",
        "  min_value = data.min(axis=0)\n",
        "  max_value = data.max(axis=0)\n",
        "  data_output = (data - min_value) / (max_value - min_value)\n",
        "  return data_output\n",
        "\n",
        "def standardize(data):\n",
        "  \"\"\"\n",
        "  Input: Pandas DataFrame\n",
        "  Output: Pandas DataFrame with mean == 0 and std == 1\n",
        "  \"\"\"\n",
        "  mean = np.mean(data, axis=0)\n",
        "  std = np.std(data, axis=0)\n",
        "  data_new = (data - mean) / std\n",
        "  return data_new\n",
        "\n",
        "def normalize(data):\n",
        "  \"\"\"\"\n",
        "  Input: Pandas DataFrame\n",
        "  Output: Pandas DataFrame with min == 0 and max == 1\n",
        "  \"\"\"\n",
        "\n",
        "  return (data - np.min(data, axis=0))/(np.max(data, axis=0) - np.min(data, axis=0))\n"
      ]
    },
    {
      "cell_type": "markdown",
      "metadata": {
        "id": "Cb4WgGQ0o_9G"
      },
      "source": [
        "Let's apply both functions separately and create X_standardized and X_normalized."
      ]
    },
    {
      "cell_type": "code",
      "execution_count": 6,
      "metadata": {
        "id": "2qf7fOZG54MA"
      },
      "outputs": [],
      "source": [
        "X_standardized = standardize(X)\n",
        "X_normalized = normalize(X)"
      ]
    },
    {
      "attachments": {},
      "cell_type": "markdown",
      "metadata": {
        "id": "So46vKNl53KL"
      },
      "source": [
        "Creating a function to check the dataset's min, max, mean, std of each feature. You can re-use your lab function (**describe**) but this time you are not allowed to use Pandas DataFrame. There is no expected format for this function if you are successfully able to plot four statistics (min, max, mean, std). "
      ]
    },
    {
      "cell_type": "code",
      "execution_count": 7,
      "metadata": {
        "id": "l9BqVsG36Tsl"
      },
      "outputs": [],
      "source": [
        "def describe(data):\n",
        "  \"\"\"\n",
        "  Describe four statistics of the dataset.\n",
        "  \n",
        "  Input: NumPy ndarray\n",
        "  Output: vertical min, max, mean, standard deviation\n",
        "  \"\"\"\n",
        "  \n",
        "  print(\"Min: \", np.min(data, axis=0))\n",
        "  print(\"Max: \", np.max(data, axis=0))\n",
        "  print(\"Mean: \", np.mean(data, axis=0))\n",
        "  print(\"Std: \", np.std(data, axis=0))"
      ]
    },
    {
      "attachments": {},
      "cell_type": "markdown",
      "metadata": {
        "id": "FZEPPjpJ6W3B"
      },
      "source": [
        "Using this function, let's check if your **standardize** and **normalize** functions are correctly working. \n",
        "- ** output should be the same as the one below.**"
      ]
    },
    {
      "cell_type": "code",
      "execution_count": 8,
      "metadata": {
        "colab": {
          "base_uri": "https://localhost:8080/"
        },
        "id": "1NY6wtki6c84",
        "outputId": "945364b8-7158-4052-a701-a279cfef5ea1"
      },
      "outputs": [
        {
          "name": "stdout",
          "output_type": "stream",
          "text": [
            "Min:  [-1.77429947 -2.19618048 -1.8523186  -1.61076772 -1.25612255 -0.22899997\n",
            " -1.447568   -2.38599234]\n",
            "Max:  [  5.85828581   1.85618152  55.16323628  69.57171326  30.25033022\n",
            " 119.41910319   2.95806762   2.62528006]\n",
            "Mean:  [ 6.60969987e-17  5.50808322e-18  6.60969987e-17 -1.06030602e-16\n",
            " -1.10161664e-17  3.44255201e-18 -1.07958431e-15 -8.52651283e-15]\n",
            "Std:  [1. 1. 1. 1. 1. 1. 1. 1.]\n"
          ]
        }
      ],
      "source": [
        "describe(X_standardized)"
      ]
    },
    {
      "cell_type": "code",
      "execution_count": 9,
      "metadata": {
        "colab": {
          "base_uri": "https://localhost:8080/"
        },
        "id": "G7-p5vdl3H4F",
        "outputId": "b179dea5-39dd-4eab-8b1e-ade4f6160794"
      },
      "outputs": [
        {
          "name": "stdout",
          "output_type": "stream",
          "text": [
            "Min:  [0. 0. 0. 0. 0. 0. 0. 0.]\n",
            "Max:  [1. 1. 1. 1. 1. 1. 1. 1.]\n",
            "Mean:  [0.23246376 0.54195071 0.03248795 0.02262871 0.03986874 0.00191395\n",
            " 0.32857188 0.47612505]\n",
            "Std:  [0.13101721 0.24676966 0.01753907 0.0140484  0.03173953 0.00835784\n",
            " 0.226982   0.19955012]\n"
          ]
        }
      ],
      "source": [
        "describe(X_normalized)"
      ]
    },
    {
      "attachments": {},
      "cell_type": "markdown",
      "metadata": {
        "id": "mj47zZ264Az0"
      },
      "source": [
        "dividing the dataset into two parts: {a training set, a test set} and only use the training set to train the model."
      ]
    },
    {
      "cell_type": "code",
      "execution_count": 10,
      "metadata": {
        "id": "ORFET61FbZVy"
      },
      "outputs": [],
      "source": [
        "def train_test_split(X, y, test_ratio = 0.3):\n",
        "  # simulation\n",
        "  # cross-val\n",
        "  \n",
        "  \"\"\"\n",
        "  Input:\n",
        "    - X: a set of features\n",
        "    - y: corresponding labels\n",
        "    - test_ratio: ratio of the test set\n",
        "    \n",
        "  Output:\n",
        "    - X_train: separated training instances\n",
        "    - X_test: separated test instances\n",
        "    - y_train: separated training labels\n",
        "    - y_test: separated test labels\n",
        "  \n",
        "  1. Randomly shuffle the indices of the data instances\n",
        "  2. Divide the indices into two parts with the ratio of [1-test ratio:test ratio]\n",
        "  3. Select training instances and labels with the first set of indices and test instances and labels with the second set of indices\n",
        "  4. Return the training set and the test set\n",
        "  \"\"\"\n",
        "  #np.random.seed(12345)\n",
        "  rng = np.random.permutation(len(X))\n",
        "  test_size = int(len(X)*(test_ratio))\n",
        "  train_ind = rng[test_size:]\n",
        "  test_ind = rng[:test_size]\n",
        "  return X[train_ind] , X[test_ind], y[train_ind], y[test_ind]"
      ]
    },
    {
      "attachments": {},
      "cell_type": "markdown",
      "metadata": {
        "id": "twOo6_yniUGO"
      },
      "source": [
        "Spliting dataset into training and test sets with `test ratio = 0.3`."
      ]
    },
    {
      "cell_type": "code",
      "execution_count": 11,
      "metadata": {
        "id": "f-iSb7IoijO1"
      },
      "outputs": [],
      "source": [
        "X_train, X_test, y_train, y_test = train_test_split(X, y, 0.3)"
      ]
    },
    {
      "attachments": {},
      "cell_type": "markdown",
      "metadata": {
        "id": "d9PK6RGbkK7O"
      },
      "source": [
        "After applying train_test_split function, you can check the shape of each subset. The training set should have 14,448 rows while the test set might have 6,192 records."
      ]
    },
    {
      "cell_type": "code",
      "execution_count": 12,
      "metadata": {
        "id": "bk_pMMo-iquK"
      },
      "outputs": [
        {
          "data": {
            "text/plain": [
              "((14448, 8), (6192, 8), (14448,), (6192,))"
            ]
          },
          "execution_count": 12,
          "metadata": {},
          "output_type": "execute_result"
        }
      ],
      "source": [
        "X_train.shape, X_test.shape, y_train.shape, y_test.shape"
      ]
    },
    {
      "attachments": {},
      "cell_type": "markdown",
      "metadata": {
        "id": "7T8JBhsTj00O"
      },
      "source": [
        " Creating two functions (**apply_standardization**, **apply_normalization**) that uses training set's statistics and apply standardization or normalization to both sets."
      ]
    },
    {
      "cell_type": "code",
      "execution_count": 13,
      "metadata": {
        "id": "XLs3P181kYHA"
      },
      "outputs": [],
      "source": [
        "def apply_standardization(X_train, X_test):\n",
        "  \"\"\"\n",
        "  Input:\n",
        "    - X_train: training instances\n",
        "    - X_test: test instances\n",
        "\n",
        "  Output:\n",
        "    - X_train_standardized\n",
        "    - X_test_standardized\n",
        "\n",
        "  Use training set's mean and standard deviation to standardize both training and test sets\n",
        "  \"\"\"\n",
        "  mean = np.mean(X_train, axis=0)\n",
        "  std = np.std(X_train, axis=0)\n",
        "  X_train_standardized = (X_train - mean) / std\n",
        "  X_test_standardized = (X_test - mean) / std\n",
        "  return X_train_standardized, X_test_standardized"
      ]
    },
    {
      "cell_type": "code",
      "execution_count": 14,
      "metadata": {
        "id": "sOx7Kd221jRq"
      },
      "outputs": [],
      "source": [
        "def apply_normalization(X_train, X_test):\n",
        "  \"\"\"\n",
        "  Input:\n",
        "    - X_train\n",
        "    - X_test\n",
        "\n",
        "  Output:\n",
        "    - X_train_standardized\n",
        "    - X_test_standardized\n",
        "  \"\"\"\n",
        "  max_value = np.max(X_train, axis=0)\n",
        "  min_value = np.min(X_train, axis=0)\n",
        "  X_train_standardized = (X_train - min_value) / (max_value - min_value)\n",
        "  X_test_standardized = (X_test - min_value) / (max_value - min_value)\n",
        "  return X_train_standardized, X_test_standardized"
      ]
    },
    {
      "cell_type": "markdown",
      "metadata": {
        "id": "ujWQ84ZFCa10"
      },
      "source": [
        "- Apply two functions (**apply_standardization**, **apply_normalization**) to created standardized and normalized datasets."
      ]
    },
    {
      "cell_type": "code",
      "execution_count": 15,
      "metadata": {
        "id": "Cw8tjyoCtnqI"
      },
      "outputs": [],
      "source": [
        "X_train_standardized, X_test_standardized = apply_standardization(X_train, X_test)\n",
        "X_train_normalized, X_test_normalized = apply_normalization(X_train, X_test)"
      ]
    },
    {
      "attachments": {},
      "cell_type": "markdown",
      "metadata": {
        "id": "efxhH-DvCxBx"
      },
      "source": [
        "Checking the statistics using describe method. "
      ]
    },
    {
      "cell_type": "code",
      "execution_count": 16,
      "metadata": {
        "id": "ch5zQTDDDugQ"
      },
      "outputs": [
        {
          "name": "stdout",
          "output_type": "stream",
          "text": [
            "Min:  [-1.77984117 -2.11947543 -1.75865295 -1.41639425 -1.21807626 -0.20527725\n",
            " -1.43606933 -2.39547596]\n",
            "Max:  [  5.88589575   1.85028562  52.37164895  64.61802314  29.37600436\n",
            " 106.24817184   2.97788143   2.52307343]\n",
            "Mean:  [-9.39866263e-15  1.71973915e-16 -7.06439241e-15 -1.49168331e-14\n",
            "  3.25159796e-17 -4.72230920e-16 -5.66941289e-14  1.80664822e-15]\n",
            "Std:  [1. 1. 1. 1. 1. 1. 1. 1.]\n"
          ]
        }
      ],
      "source": [
        "describe(X_train_standardized)"
      ]
    },
    {
      "cell_type": "code",
      "execution_count": 17,
      "metadata": {
        "id": "8qyxhAClDx7e"
      },
      "outputs": [
        {
          "name": "stdout",
          "output_type": "stream",
          "text": [
            "Min:  [-1.77984117 -2.19887065 -1.74225417 -1.49805937 -1.21378885 -0.1737262\n",
            " -1.44076502 -2.33561532]\n",
            "Max:  [ 5.88589575  1.85028562 19.50893121 20.21319655 10.14183798 42.77983604\n",
            "  2.97788143  2.61286439]\n",
            "Mean:  [ 0.00721618 -0.01475838 -0.00023439 -0.00645906  0.00557054 -0.00510376\n",
            "  0.03692658 -0.03626547]\n",
            "Std:  [1.01438783 0.9972842  0.81925066 0.73644982 0.89984358 0.55256454\n",
            " 1.00933777 0.99758704]\n"
          ]
        }
      ],
      "source": [
        "describe(X_test_standardized)"
      ]
    },
    {
      "cell_type": "code",
      "execution_count": 18,
      "metadata": {
        "id": "_tTsEozJ2_3a"
      },
      "outputs": [
        {
          "name": "stdout",
          "output_type": "stream",
          "text": [
            "Min:  [0. 0. 0. 0. 0. 0. 0. 0.]\n",
            "Max:  [1. 1. 1. 1. 1. 1. 1. 1.]\n",
            "Mean:  [0.23218135 0.53390504 0.03248925 0.02144933 0.03981412 0.00192833\n",
            " 0.32534784 0.48702895]\n",
            "Std:  [0.1304506  0.25190433 0.01847394 0.01514362 0.03268606 0.00939378\n",
            " 0.22655441 0.20331198]\n"
          ]
        }
      ],
      "source": [
        "describe(X_train_normalized)"
      ]
    },
    {
      "cell_type": "code",
      "execution_count": 19,
      "metadata": {
        "id": "bNplCpND3Byu"
      },
      "outputs": [
        {
          "name": "stdout",
          "output_type": "stream",
          "text": [
            "Min:  [ 0.         -0.02        0.00030295 -0.00123671  0.00014014  0.00029638\n",
            " -0.00106383  0.01217039]\n",
            "Max:  [1.         1.         0.39289609 0.32755026 0.37131086 0.40379258\n",
            " 1.         1.01825558]\n",
            "Mean:  [0.23312271 0.53018734 0.03248492 0.02135152 0.03999619 0.00188039\n",
            " 0.33371371 0.47965575]\n",
            "Std:  [0.1323275  0.25122021 0.01513479 0.01115251 0.02941234 0.00519067\n",
            " 0.22866992 0.20282139]\n"
          ]
        }
      ],
      "source": [
        "describe(X_test_normalized)"
      ]
    },
    {
      "cell_type": "markdown",
      "metadata": {
        "id": "EgG7BAsDOx8B"
      },
      "source": [
        "### 2. Linear regression"
      ]
    },
    {
      "attachments": {},
      "cell_type": "markdown",
      "metadata": {
        "id": "aDLWBj56D6P6"
      },
      "source": [
        "Now it is ready to put the dataset to train a model. \n",
        "\n",
        "- Creating the **solver** function that creates a linear regression line and return the coefficents. \n",
        "-  **all available features** of the dataset are used.\n",
        "- adding one column representing a bias to your feature matrix.\n",
        "\n",
        "The normal equation can be represented as follows:\n",
        "\n",
        "$\\theta = (\\textbf{X}^T \\cdot \\textbf{X})^{-1} \\cdot \\textbf{X}^T \\cdot \\textbf{y}$"
      ]
    },
    {
      "cell_type": "code",
      "execution_count": 20,
      "metadata": {
        "id": "6EkjV6APOx8C"
      },
      "outputs": [],
      "source": [
        "def solver(X, y):\n",
        "  \"\"\"\n",
        "  Get the weights and bias of linear regression classifier on the input dataset (X, y).\n",
        "\n",
        "  Input: \n",
        "   - X: a set of features\n",
        "   - y: labels\n",
        "  Output:\n",
        "   - theta: weights and bias of the linear regression\n",
        "  \"\"\"\n",
        "  bias = np.ones([X.shape[0],1])\n",
        "  data_X = np.concatenate([X,bias],axis=1)\n",
        "  normal_equation = np.linalg.inv(data_X.T @ data_X) @ data_X.T @ y\n",
        "  return normal_equation\n"
      ]
    },
    {
      "attachments": {},
      "cell_type": "markdown",
      "metadata": {
        "id": "xWZhZW4rExeQ"
      },
      "source": [
        "\n",
        "- Runing the **solve** function on **X_train_standardized** and **y_train** and save the result to **theta**."
      ]
    },
    {
      "cell_type": "code",
      "execution_count": 21,
      "metadata": {
        "colab": {
          "base_uri": "https://localhost:8080/"
        },
        "id": "4_8ETLDgE_5p",
        "outputId": "390908bc-5d45-4e55-f9c3-5b043bc2f0db"
      },
      "outputs": [
        {
          "name": "stdout",
          "output_type": "stream",
          "text": [
            "[ 0.82068913  0.12615715 -0.25578635  0.30210798 -0.00378871 -0.0448\n",
            " -0.90409719 -0.87281663  2.06391117]\n"
          ]
        }
      ],
      "source": [
        "theta = solver(X_train_standardized, y_train)\n",
        "print(theta)"
      ]
    },
    {
      "attachments": {},
      "cell_type": "markdown",
      "metadata": {
        "id": "dQDfYDDxF9o5"
      },
      "source": [
        "- Creating the **predict** function which put each instance into the regression equation to predict the value. **DO NOT USE ANY LOOP**."
      ]
    },
    {
      "cell_type": "code",
      "execution_count": 22,
      "metadata": {
        "id": "p-JxOI09ledN"
      },
      "outputs": [],
      "source": [
        "def predict(X, theta):\n",
        "  \"\"\"\n",
        "  Input: \n",
        "   - X: data instances to predict\n",
        "   - theta: trained regression coefficients\n",
        "\n",
        "  Output:\n",
        "   - y_hat: predicted values (X @ weight) + bias\n",
        "  \"\"\"\n",
        "  # bias = np.ones([X.shape[0],1])\n",
        "  # data_X = np.concatenate([X,bias],axis=1)\n",
        "  # result = np.dot(data_X, theta)\n",
        "\n",
        "\n",
        "  weight = theta[:-1]\n",
        "  bias = theta[-1:]\n",
        "  y_hat = np.dot(X, weight) + bias\n",
        "\n",
        "  return y_hat"
      ]
    },
    {
      "cell_type": "code",
      "execution_count": 23,
      "metadata": {
        "id": "psp-L1wGRslu"
      },
      "outputs": [],
      "source": [
        "#This predict function should be able to return the predicted value of the housing price. Then now you might want to return the mean squared error (and its variants) of the whole model. There can be many different metrics but here you will measure the rooted mean squared error (RMSE). RMSE can be calculated as follows: "
      ]
    },
    {
      "cell_type": "markdown",
      "metadata": {
        "id": "ljB3uUqjWPbw"
      },
      "source": [
        "$RMSE = \\sqrt{\\frac{1}{n}\\sum_{t=1}^{n}(\\hat{y}_t - y_t)^2} $.\n",
        "\n",
        "Note that $\\hat{y}$ is a predicted label and $y$ is a true label."
      ]
    },
    {
      "cell_type": "markdown",
      "metadata": {
        "id": "aMTnVQGPWfBv"
      },
      "source": [
        "- Create a function **rooted_mean_squared_error** that calculates the RMSE value."
      ]
    },
    {
      "cell_type": "code",
      "execution_count": 24,
      "metadata": {
        "id": "laAN9bTMOx8C"
      },
      "outputs": [],
      "source": [
        "def rooted_mean_squared_error(X, y, theta):\n",
        "  \"\"\"\n",
        "  Input:\n",
        "    - X_test: data instances to test\n",
        "    - y_test: true class labels of the corresponding data instances (X_test)\n",
        "    - theta: trained regression coefficients\n",
        "\n",
        "  Output:\n",
        "    - RMSE: the RMSE score\n",
        "\n",
        "  Use predict function to calculate our predicted values.\n",
        "  \"\"\"\n",
        "  y_hat = predict(X, theta)\n",
        "  RMSE = np.sqrt(np.mean((y - y_hat)**2))\n",
        "  return RMSE\n",
        "\n"
      ]
    },
    {
      "attachments": {},
      "cell_type": "markdown",
      "metadata": {
        "id": "52aH-ML6Seu7"
      },
      "source": [
        "Even though the RMSE is generally the preferred performance measure for\n",
        "regression tasks, in some contexts you may prefer to use another function. For\n",
        "example, suppose that there are many outliers. In that case, you may\n",
        "consider using the mean absolute error (MAE). It's direct translation of l1 and l2 norm. The higher the norm index, the more it focuses on large values and\n",
        "neglects small ones. This is why the RMSE is more sensitive to\n",
        "outliers than the MAE. But when outliers are exponentially rare (like\n",
        "in a bell-shaped curve), the RMSE performs very well and is\n",
        "generally preferred.\n",
        "\n",
        "MAE can be calculated as follows:\n",
        "\n",
        "$MAE = \\frac{1}{n}\\sum_{t=1}^{n}|\\hat{y}_t - y_t|$\n",
        "\n",
        "- Implementing a function for MAE **mean_absolute_error**, which receives the same parameters *X*, *y*, and *theta*."
      ]
    },
    {
      "cell_type": "code",
      "execution_count": 25,
      "metadata": {
        "id": "uFEGAF7fqqeg"
      },
      "outputs": [],
      "source": [
        "def mean_absolute_error(X, y, theta):\n",
        "  \"\"\"\n",
        "  Input:\n",
        "    - X_test: data instances to test\n",
        "    - y_test: true values of the corresponding data instances (X_test)\n",
        "    - theta: trained regression coefficients\n",
        "\n",
        "  Output:\n",
        "    - MAE: MAE score\n",
        "\n",
        "  Use predict function to calculate our predicted values.\n",
        "  \"\"\"\n",
        "  y_hat = predict(X, theta)\n",
        "  MAE = np.mean(np.abs(y-y_hat) )\n",
        "  return MAE"
      ]
    },
    {
      "cell_type": "markdown",
      "metadata": {
        "id": "PNC0hszHqyIP"
      },
      "source": [
        "Train your regression model on the **standardized** training set and evaluate your method with two different scores: RMSE and MAE. Print two scores here."
      ]
    },
    {
      "cell_type": "code",
      "execution_count": 26,
      "metadata": {
        "id": "wm8gHjCSq64P"
      },
      "outputs": [],
      "source": [
        "# rmse_score = rooted_mean_squared_error(X_test_standardized, y_test, theta) # CHANGE IT!\n",
        "# mae_score = mean_absolute_error(X_test_standardized, y_test, theta) # CHANGE IT!\n",
        "rmse_score = rooted_mean_squared_error(X_train_standardized, y_train, theta) \n",
        "mae_score = mean_absolute_error(X_train_standardized, y_train, theta) "
      ]
    },
    {
      "cell_type": "code",
      "execution_count": 27,
      "metadata": {
        "colab": {
          "base_uri": "https://localhost:8080/"
        },
        "id": "LWaJtiItrmDk",
        "outputId": "ba786a85-0aad-45b1-9c6e-57b1a7be2cba"
      },
      "outputs": [
        {
          "data": {
            "text/plain": [
              "(0.7218937315055918, 0.5296562692287425)"
            ]
          },
          "execution_count": 27,
          "metadata": {},
          "output_type": "execute_result"
        }
      ],
      "source": [
        "rmse_score, mae_score"
      ]
    },
    {
      "cell_type": "markdown",
      "metadata": {
        "id": "royxfFHjRjw2"
      },
      "source": [
        "### 4. Linear regression with regularization"
      ]
    },
    {
      "attachments": {},
      "cell_type": "markdown",
      "metadata": {
        "id": "wphcDNvvkwL0"
      },
      "source": [
        "\n",
        "\n",
        "A closed form solution to Ridge can be represented as follows:\n",
        "\n",
        "$\\theta = (\\textbf{X}^T \\cdot \\textbf{X} + \\lambda \\textbf{I})^{-1} \\cdot \\textbf{X}^T \\cdot \\textbf{y}$\n",
        "\n",
        "where $\\textbf{I}$ is an $(n+1) \\times (n+1) $ identity matrix, since the feature matrix also includes the bias column.\n"
      ]
    },
    {
      "cell_type": "code",
      "execution_count": 28,
      "metadata": {
        "id": "jvYlCgotRlcK"
      },
      "outputs": [],
      "source": [
        "def solver_with_ridge(X, y, alpha):\n",
        "  \"\"\"\n",
        "  Get the weights and bias of the linear regression line on the dataset X, using the labels y.\n",
        "\n",
        "  Input: \n",
        "   - X: a set of features to get weights\n",
        "   - y: class labels\n",
        "  Output:\n",
        "   - theta: weights and bias of the ridge regression\n",
        "  \"\"\"\n",
        "  bias = np.ones([X.shape[0],1])\n",
        "  data_X = np.concatenate([X,bias],axis=1)\n",
        "  I = np.eye(X.shape[1]+1)\n",
        "  theta = np.linalg.inv(data_X.T @ data_X + (alpha * I)) @ data_X.T @ y\n",
        "  return theta\n",
        "\n",
        "\n",
        "  "
      ]
    },
    {
      "attachments": {},
      "cell_type": "markdown",
      "metadata": {
        "id": "G-LrDqWSmaGW"
      },
      "source": [
        "Here, comparing the performances changing the $\\lambda$ value. Use the $\\lambda$ value from 0 to 30 in increments of 0.1. Use RMSE as a score metric. \n"
      ]
    },
    {
      "cell_type": "code",
      "execution_count": 29,
      "metadata": {
        "id": "Vd9pJ8zUo_7u"
      },
      "outputs": [
        {
          "data": {
            "text/plain": [
              "300"
            ]
          },
          "execution_count": 29,
          "metadata": {},
          "output_type": "execute_result"
        }
      ],
      "source": [
        "scores = []\n",
        "alpha_values = np.arange(0, 30.0, 0.1)\n",
        "for alpha in alpha_values:\n",
        "    score = rooted_mean_squared_error(X_test_standardized,y_test,solver_with_ridge(X_train_standardized, y_train, alpha))\n",
        "    scores.append(score)\n",
        "len(scores)\n"
      ]
    },
    {
      "attachments": {},
      "cell_type": "markdown",
      "metadata": {
        "id": "ILjT1k5FpLVe"
      },
      "source": [
        "Plotting the graph of different scores here. The resulting plot behaves in a different way based on your split training and test sets. Sometimes, the error just decreases or increases, but you can also see that the error decreases first, but after some point, it starts to increase. If you are interested, repeat many times to check different plots and you can even change the range from [0, 30] to something else. Uncomment the block below!"
      ]
    },
    {
      "cell_type": "code",
      "execution_count": 30,
      "metadata": {
        "id": "--Ky0LHO0wqM"
      },
      "outputs": [
        {
          "data": {
            "image/png": "[encoded data removed]",
            "text/plain": [
              "<Figure size 640x480 with 1 Axes>"
            ]
          },
          "metadata": {},
          "output_type": "display_data"
        }
      ],
      "source": [
        "plt.plot(np.arange(0, 30, 0.1), scores)\n",
        "plt.xlabel(\"alpha\")\n",
        "plt.ylabel(\"RMSE\")\n",
        "plt.show()"
      ]
    },
    {
      "cell_type": "markdown",
      "metadata": {
        "id": "S3nHFnagh0nC"
      },
      "source": [
        "### 5. Model validation"
      ]
    },
    {
      "cell_type": "code",
      "execution_count": 31,
      "metadata": {
        "id": "M7JEfZjGijfH"
      },
      "outputs": [],
      "source": [
        "def repeated_hold_out(X, y, k, test_ratio):\n",
        "  \"\"\"\n",
        "  Input:\n",
        "    - X: features\n",
        "    - y: labels\n",
        "    - test_ratio: ratio of the test set\n",
        "  Output:\n",
        "    - score: the average of k different test scores\n",
        "  \n",
        "  1. Iterate k times to perform k validation processes.\n",
        "  2. For each iteration, split the dataset into training and test sets with *random* indices.\n",
        "   - Note that each iteration should create different training and test sets.\n",
        "  3. Use *standardization* to fix the scale of the dataset, you should only use the training set's properties.\n",
        "  4. Fit your model with *solver* (without ridge) on the training set.\n",
        "  5. Save your *RMSE* score into the list *scores*\n",
        "  6. After all the iterations, return the average of *scores*.\n",
        "\n",
        "  \"\"\"\n",
        "  scores = []\n",
        "  for i in range(k):\n",
        "    X_train, X_test, y_train, y_test = train_test_split(X, y, test_ratio)\n",
        "    X_train_standardized, X_test_standardized = apply_standardization(X_train, X_test)\n",
        "    theta = solver(X_train_standardized, y_train)\n",
        "    scores.append(rooted_mean_squared_error(X_test_standardized, y_test, theta))\n",
        "  average = sum(scores) / k\n",
        "  return average"
      ]
    },
    {
      "cell_type": "code",
      "execution_count": 32,
      "metadata": {
        "id": "QuMGeSGfLjAL"
      },
      "outputs": [
        {
          "data": {
            "text/plain": [
              "0.7333994668566514"
            ]
          },
          "execution_count": 32,
          "metadata": {},
          "output_type": "execute_result"
        }
      ],
      "source": [
        "holdout_score = repeated_hold_out(X, y, k=5, test_ratio=0.2)\n",
        "holdout_score"
      ]
    },
    {
      "cell_type": "markdown",
      "metadata": {
        "id": "D7mSIvYbRoQq"
      },
      "source": [
        "### 6. Put things together"
      ]
    },
    {
      "attachments": {},
      "cell_type": "markdown",
      "metadata": {
        "id": "DWjft22LHEJm"
      },
      "source": [
        "\n",
        "* Creating `pipeline` "
      ]
    },
    {
      "cell_type": "code",
      "execution_count": 36,
      "metadata": {
        "id": "6CU_kV0DRpYg"
      },
      "outputs": [],
      "source": [
        "def pipeline(X, y, k = 5, test_ratio = 0.2, norm_method = \"standardization\", eval_method = \"RMSE\", alpha = 0):\n",
        "  \"\"\"\n",
        "  Input:\n",
        "    - X: features\n",
        "    - y: labels\n",
        "    - test_ratio: ratio of the test set\n",
        "  Output:\n",
        "    - score: the average of k different test scores\n",
        "  \n",
        "  1. Iterate k times to perform k validation processes.\n",
        "  2. For each iteration, split the dataset into the training and test sets with *random* indices.\n",
        "   - Note that each iteration should create different training and test sets.\n",
        "  3. Check the parameter *norm_method*\n",
        "    - if norm_method == standardization:\n",
        "      - Use *standardization* to fix the scale of the dataset, you should only use the training set's properties.\n",
        "    - if norm_method == normalization:\n",
        "      - Use *normalization* to fix the scale of the dataset, you should only use the training set's properties.\n",
        "  4. Fit your model with *solver_with_ridge\" on the training set. Use alpha from the parameter.\n",
        "  5. Check the parameter \"eval_method\"\n",
        "    - if eval_method == \"RMSE\"\n",
        "      - Save your *RMSE* score into the list *scores*\n",
        "    - if eval_method == \"MAE\"\n",
        "      - Save your *MAE* score into the list *scores*\n",
        "\n",
        "  6. After all the iterations, return the average of *scores*.\n",
        "\n",
        "  \"\"\"\n",
        "  scores = []\n",
        "  for i in range(k):\n",
        "    X_train, X_test, y_train, y_test = train_test_split(X, y, test_ratio)\n",
        "    if norm_method == 'standardization':\n",
        "      X_train_norm, X_test_norm = apply_standardization(X_train, X_test)\n",
        "    elif norm_method == 'normalization':\n",
        "      X_train_norm, X_test_norm = apply_normalization(X_train, X_test)\n",
        "    else:\n",
        "      X_train_norm = X_train\n",
        "    theta = solver_with_ridge(X_train_norm, y_train, alpha)\n",
        "    if eval_method == 'RMSE':\n",
        "      scores.append(rooted_mean_squared_error(X_test_norm, y_test, theta))\n",
        "    elif eval_method == 'MAE':\n",
        "      scores.append(mean_absolute_error(X_test_norm, y_test, theta))\n",
        "  average = sum(scores) / k\n",
        "\n",
        "  return average"
      ]
    }
  ],
  "metadata": {
    "colab": {
      "provenance": []
    },
    "kernelspec": {
      "display_name": "Python 3",
      "language": "python",
      "name": "python3"
    },
    "language_info": {
      "codemirror_mode": {
        "name": "ipython",
        "version": 3
      },
      "file_extension": ".py",
      "mimetype": "text/x-python",
      "name": "python",
      "nbconvert_exporter": "python",
      "pygments_lexer": "ipython3",
      "version": "3.11.0"
    },
    "orig_nbformat": 4,
    "vscode": {
      "interpreter": {
        "hash": "1682e5d06a6d97c1b1cf6bb4ae6cf16223e994936ddb1d53664597d7d46101fa"
      }
    }
  },
  "nbformat": 4,
  "nbformat_minor": 0
}
